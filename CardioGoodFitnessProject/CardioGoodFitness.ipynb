{
 "cells": [
  {
   "cell_type": "code",
   "execution_count": 1,
   "id": "8b44d2ab",
   "metadata": {},
   "outputs": [],
   "source": [
    "# Import all the necessary packages\n",
    "import numpy as np \n",
    "import pandas as pd \n",
    "import re\n",
    "import os\n",
    "import seaborn as sns\n",
    "import matplotlib.pyplot as plt"
   ]
  },
  {
   "cell_type": "code",
   "execution_count": 2,
   "id": "4a26237d",
   "metadata": {},
   "outputs": [],
   "source": [
    "# Read the CSV file present in the current folder containing the Cardio Fitness Data\n",
    "cgfObj = pd.read_csv('CardioGoodFitness.csv', header =[0])"
   ]
  },
  {
   "cell_type": "code",
   "execution_count": 3,
   "id": "25182ac3",
   "metadata": {},
   "outputs": [
    {
     "name": "stdout",
     "output_type": "stream",
     "text": [
      "    Product  Age Gender Education MaritalStatus  Usage  Fitness  Income  Miles\n",
      "0    FitKit   19   Male        BA        Single      3        4  129562    112\n",
      "1    FitKit   19   Male       BSc        Single      2        3  131836     75\n",
      "2    FitKit   19   Male        BA       Married      4        3  130699     66\n",
      "3    FitKit   19   Male      Poly        Single      3        3  132973     85\n",
      "4    FitKit   20   Male      Poly       Married      4        2  135247     47\n",
      "..      ...  ...    ...       ...           ...    ...      ...     ...    ...\n",
      "175  Reebok   40   Male        Dr        Single      6        5  183416    200\n",
      "176  Reebok   42   Male        Dr        Single      5        4  189641    200\n",
      "177  Reebok   45   Male        BE        Single      5        5  190886    160\n",
      "178  Reebok   47   Male        Dr       Married      4        5  104581    120\n",
      "179  Reebok   48   Male        Dr       Married      4        5  195508    180\n",
      "\n",
      "[180 rows x 9 columns]\n"
     ]
    }
   ],
   "source": [
    "# Print the result object from file to check if all rows (excluding the header) are read \n",
    "print (cgfObj)"
   ]
  },
  {
   "cell_type": "code",
   "execution_count": 4,
   "id": "362b2415",
   "metadata": {},
   "outputs": [
    {
     "data": {
      "text/plain": [
       "(180, 9)"
      ]
     },
     "execution_count": 4,
     "metadata": {},
     "output_type": "execute_result"
    }
   ],
   "source": [
    "# Print the shape of the file object - this gives the number of rows and columns in the data set\n",
    "cgfObj.shape"
   ]
  },
  {
   "cell_type": "code",
   "execution_count": 5,
   "id": "bdc1a0c7",
   "metadata": {},
   "outputs": [
    {
     "data": {
      "text/html": [
       "<div>\n",
       "<style scoped>\n",
       "    .dataframe tbody tr th:only-of-type {\n",
       "        vertical-align: middle;\n",
       "    }\n",
       "\n",
       "    .dataframe tbody tr th {\n",
       "        vertical-align: top;\n",
       "    }\n",
       "\n",
       "    .dataframe thead th {\n",
       "        text-align: right;\n",
       "    }\n",
       "</style>\n",
       "<table border=\"1\" class=\"dataframe\">\n",
       "  <thead>\n",
       "    <tr style=\"text-align: right;\">\n",
       "      <th></th>\n",
       "      <th>Product</th>\n",
       "      <th>Age</th>\n",
       "      <th>Gender</th>\n",
       "      <th>Education</th>\n",
       "      <th>MaritalStatus</th>\n",
       "      <th>Usage</th>\n",
       "      <th>Fitness</th>\n",
       "      <th>Income</th>\n",
       "      <th>Miles</th>\n",
       "    </tr>\n",
       "  </thead>\n",
       "  <tbody>\n",
       "    <tr>\n",
       "      <th>0</th>\n",
       "      <td>FitKit</td>\n",
       "      <td>19</td>\n",
       "      <td>Male</td>\n",
       "      <td>BA</td>\n",
       "      <td>Single</td>\n",
       "      <td>3</td>\n",
       "      <td>4</td>\n",
       "      <td>129562</td>\n",
       "      <td>112</td>\n",
       "    </tr>\n",
       "    <tr>\n",
       "      <th>1</th>\n",
       "      <td>FitKit</td>\n",
       "      <td>19</td>\n",
       "      <td>Male</td>\n",
       "      <td>BSc</td>\n",
       "      <td>Single</td>\n",
       "      <td>2</td>\n",
       "      <td>3</td>\n",
       "      <td>131836</td>\n",
       "      <td>75</td>\n",
       "    </tr>\n",
       "    <tr>\n",
       "      <th>2</th>\n",
       "      <td>FitKit</td>\n",
       "      <td>19</td>\n",
       "      <td>Male</td>\n",
       "      <td>BA</td>\n",
       "      <td>Married</td>\n",
       "      <td>4</td>\n",
       "      <td>3</td>\n",
       "      <td>130699</td>\n",
       "      <td>66</td>\n",
       "    </tr>\n",
       "    <tr>\n",
       "      <th>3</th>\n",
       "      <td>FitKit</td>\n",
       "      <td>19</td>\n",
       "      <td>Male</td>\n",
       "      <td>Poly</td>\n",
       "      <td>Single</td>\n",
       "      <td>3</td>\n",
       "      <td>3</td>\n",
       "      <td>132973</td>\n",
       "      <td>85</td>\n",
       "    </tr>\n",
       "    <tr>\n",
       "      <th>4</th>\n",
       "      <td>FitKit</td>\n",
       "      <td>20</td>\n",
       "      <td>Male</td>\n",
       "      <td>Poly</td>\n",
       "      <td>Married</td>\n",
       "      <td>4</td>\n",
       "      <td>2</td>\n",
       "      <td>135247</td>\n",
       "      <td>47</td>\n",
       "    </tr>\n",
       "  </tbody>\n",
       "</table>\n",
       "</div>"
      ],
      "text/plain": [
       "  Product  Age Gender Education MaritalStatus  Usage  Fitness  Income  Miles\n",
       "0  FitKit   19   Male        BA        Single      3        4  129562    112\n",
       "1  FitKit   19   Male       BSc        Single      2        3  131836     75\n",
       "2  FitKit   19   Male        BA       Married      4        3  130699     66\n",
       "3  FitKit   19   Male      Poly        Single      3        3  132973     85\n",
       "4  FitKit   20   Male      Poly       Married      4        2  135247     47"
      ]
     },
     "execution_count": 5,
     "metadata": {},
     "output_type": "execute_result"
    }
   ],
   "source": [
    "# Print the head of the file object - default its displaying 5 top rows from the csv file\n",
    "cgfObj.head()"
   ]
  },
  {
   "cell_type": "code",
   "execution_count": 6,
   "id": "e9c54acb",
   "metadata": {},
   "outputs": [
    {
     "data": {
      "text/html": [
       "<div>\n",
       "<style scoped>\n",
       "    .dataframe tbody tr th:only-of-type {\n",
       "        vertical-align: middle;\n",
       "    }\n",
       "\n",
       "    .dataframe tbody tr th {\n",
       "        vertical-align: top;\n",
       "    }\n",
       "\n",
       "    .dataframe thead th {\n",
       "        text-align: right;\n",
       "    }\n",
       "</style>\n",
       "<table border=\"1\" class=\"dataframe\">\n",
       "  <thead>\n",
       "    <tr style=\"text-align: right;\">\n",
       "      <th></th>\n",
       "      <th>mean</th>\n",
       "      <th>min</th>\n",
       "      <th>max</th>\n",
       "      <th>count</th>\n",
       "    </tr>\n",
       "    <tr>\n",
       "      <th>Product</th>\n",
       "      <th></th>\n",
       "      <th></th>\n",
       "      <th></th>\n",
       "      <th></th>\n",
       "    </tr>\n",
       "  </thead>\n",
       "  <tbody>\n",
       "    <tr>\n",
       "      <th>FitKit</th>\n",
       "      <td>143572.152542</td>\n",
       "      <td>129562</td>\n",
       "      <td>168220</td>\n",
       "      <td>59</td>\n",
       "    </tr>\n",
       "    <tr>\n",
       "      <th>PowerMax</th>\n",
       "      <td>150304.218182</td>\n",
       "      <td>132973</td>\n",
       "      <td>167083</td>\n",
       "      <td>55</td>\n",
       "    </tr>\n",
       "    <tr>\n",
       "      <th>Reebok</th>\n",
       "      <td>202711.968750</td>\n",
       "      <td>103336</td>\n",
       "      <td>1104581</td>\n",
       "      <td>32</td>\n",
       "    </tr>\n",
       "    <tr>\n",
       "      <th>TreadOne</th>\n",
       "      <td>151330.941176</td>\n",
       "      <td>131836</td>\n",
       "      <td>167083</td>\n",
       "      <td>34</td>\n",
       "    </tr>\n",
       "  </tbody>\n",
       "</table>\n",
       "</div>"
      ],
      "text/plain": [
       "                   mean     min      max  count\n",
       "Product                                        \n",
       "FitKit    143572.152542  129562   168220     59\n",
       "PowerMax  150304.218182  132973   167083     55\n",
       "Reebok    202711.968750  103336  1104581     32\n",
       "TreadOne  151330.941176  131836   167083     34"
      ]
     },
     "execution_count": 6,
     "metadata": {},
     "output_type": "execute_result"
    }
   ],
   "source": [
    "# Group by Product and display the counts \n",
    "cgfObj.groupby(\"Product\")[\"Income\"].agg([\"mean\",\"min\",\"max\",\"count\"])"
   ]
  },
  {
   "cell_type": "code",
   "execution_count": 7,
   "id": "339c4e84",
   "metadata": {},
   "outputs": [
    {
     "data": {
      "text/plain": [
       "Male      112\n",
       "Female     68\n",
       "Name: Gender, dtype: int64"
      ]
     },
     "execution_count": 7,
     "metadata": {},
     "output_type": "execute_result"
    }
   ],
   "source": [
    "# Group by Gender and display the counts\n",
    "cgfObj[\"Gender\"].value_counts()"
   ]
  },
  {
   "cell_type": "code",
   "execution_count": 8,
   "id": "56ed1858",
   "metadata": {},
   "outputs": [
    {
     "data": {
      "text/plain": [
       "Married    107\n",
       "Single      73\n",
       "Name: MaritalStatus, dtype: int64"
      ]
     },
     "execution_count": 8,
     "metadata": {},
     "output_type": "execute_result"
    }
   ],
   "source": [
    "# Group by Marital Status and display the counts\n",
    "cgfObj[\"MaritalStatus\"].value_counts()"
   ]
  },
  {
   "cell_type": "code",
   "execution_count": 9,
   "id": "03e87704",
   "metadata": {},
   "outputs": [
    {
     "data": {
      "text/html": [
       "<div>\n",
       "<style scoped>\n",
       "    .dataframe tbody tr th:only-of-type {\n",
       "        vertical-align: middle;\n",
       "    }\n",
       "\n",
       "    .dataframe tbody tr th {\n",
       "        vertical-align: top;\n",
       "    }\n",
       "\n",
       "    .dataframe thead th {\n",
       "        text-align: right;\n",
       "    }\n",
       "</style>\n",
       "<table border=\"1\" class=\"dataframe\">\n",
       "  <thead>\n",
       "    <tr style=\"text-align: right;\">\n",
       "      <th></th>\n",
       "      <th>Age</th>\n",
       "      <th>Usage</th>\n",
       "      <th>Fitness</th>\n",
       "      <th>Income</th>\n",
       "      <th>Miles</th>\n",
       "    </tr>\n",
       "  </thead>\n",
       "  <tbody>\n",
       "    <tr>\n",
       "      <th>count</th>\n",
       "      <td>180.000000</td>\n",
       "      <td>180.000000</td>\n",
       "      <td>180.000000</td>\n",
       "      <td>1.800000e+02</td>\n",
       "      <td>180.000000</td>\n",
       "    </tr>\n",
       "    <tr>\n",
       "      <th>mean</th>\n",
       "      <td>28.772222</td>\n",
       "      <td>3.455556</td>\n",
       "      <td>3.311111</td>\n",
       "      <td>1.576085e+05</td>\n",
       "      <td>103.194444</td>\n",
       "    </tr>\n",
       "    <tr>\n",
       "      <th>std</th>\n",
       "      <td>6.961852</td>\n",
       "      <td>1.084797</td>\n",
       "      <td>0.958869</td>\n",
       "      <td>7.275523e+04</td>\n",
       "      <td>51.863605</td>\n",
       "    </tr>\n",
       "    <tr>\n",
       "      <th>min</th>\n",
       "      <td>19.000000</td>\n",
       "      <td>2.000000</td>\n",
       "      <td>1.000000</td>\n",
       "      <td>1.033360e+05</td>\n",
       "      <td>21.000000</td>\n",
       "    </tr>\n",
       "    <tr>\n",
       "      <th>25%</th>\n",
       "      <td>24.000000</td>\n",
       "      <td>3.000000</td>\n",
       "      <td>3.000000</td>\n",
       "      <td>1.432060e+05</td>\n",
       "      <td>66.000000</td>\n",
       "    </tr>\n",
       "    <tr>\n",
       "      <th>50%</th>\n",
       "      <td>26.000000</td>\n",
       "      <td>3.000000</td>\n",
       "      <td>3.000000</td>\n",
       "      <td>1.500280e+05</td>\n",
       "      <td>94.000000</td>\n",
       "    </tr>\n",
       "    <tr>\n",
       "      <th>75%</th>\n",
       "      <td>33.000000</td>\n",
       "      <td>4.000000</td>\n",
       "      <td>4.000000</td>\n",
       "      <td>1.579870e+05</td>\n",
       "      <td>114.750000</td>\n",
       "    </tr>\n",
       "    <tr>\n",
       "      <th>max</th>\n",
       "      <td>50.000000</td>\n",
       "      <td>7.000000</td>\n",
       "      <td>5.000000</td>\n",
       "      <td>1.104581e+06</td>\n",
       "      <td>360.000000</td>\n",
       "    </tr>\n",
       "  </tbody>\n",
       "</table>\n",
       "</div>"
      ],
      "text/plain": [
       "              Age       Usage     Fitness        Income       Miles\n",
       "count  180.000000  180.000000  180.000000  1.800000e+02  180.000000\n",
       "mean    28.772222    3.455556    3.311111  1.576085e+05  103.194444\n",
       "std      6.961852    1.084797    0.958869  7.275523e+04   51.863605\n",
       "min     19.000000    2.000000    1.000000  1.033360e+05   21.000000\n",
       "25%     24.000000    3.000000    3.000000  1.432060e+05   66.000000\n",
       "50%     26.000000    3.000000    3.000000  1.500280e+05   94.000000\n",
       "75%     33.000000    4.000000    4.000000  1.579870e+05  114.750000\n",
       "max     50.000000    7.000000    5.000000  1.104581e+06  360.000000"
      ]
     },
     "execution_count": 9,
     "metadata": {},
     "output_type": "execute_result"
    }
   ],
   "source": [
    "cgfObj.describe()"
   ]
  },
  {
   "cell_type": "code",
   "execution_count": 10,
   "id": "a6519365",
   "metadata": {},
   "outputs": [
    {
     "data": {
      "image/png": "[encoded data removed]",
      "text/plain": [
       "<Figure size 576x576 with 1 Axes>"
      ]
     },
     "metadata": {},
     "output_type": "display_data"
    }
   ],
   "source": [
    "# Univariate Analysis\n",
    "cgfObj['Product'].value_counts().plot.pie(autopct='%1.1f%%',figsize=(8,8))\n",
    "plt.title(\"Pie chart of Product Sales\")\n",
    "plt.show()"
   ]
  },
  {
   "cell_type": "code",
   "execution_count": 11,
   "id": "886c4b3e",
   "metadata": {},
   "outputs": [
    {
     "data": {
      "text/plain": [
       "<AxesSubplot:xlabel='Product', ylabel='count'>"
      ]
     },
     "execution_count": 11,
     "metadata": {},
     "output_type": "execute_result"
    },
    {
     "data": {
      "image/png": "[encoded data removed]",
      "text/plain": [
       "<Figure size 432x288 with 1 Axes>"
      ]
     },
     "metadata": {
      "needs_background": "light"
     },
     "output_type": "display_data"
    }
   ],
   "source": [
    "# Plot the data showing Products used by Gender of Customers - Bivariate Analysis\n",
    "sns.countplot(x='Product', hue='Gender', data=cgfObj)"
   ]
  },
  {
   "cell_type": "code",
   "execution_count": 12,
   "id": "da3404a7",
   "metadata": {},
   "outputs": [
    {
     "data": {
      "text/plain": [
       "<AxesSubplot:xlabel='Product', ylabel='count'>"
      ]
     },
     "execution_count": 12,
     "metadata": {},
     "output_type": "execute_result"
    },
    {
     "data": {
      "image/png": "[encoded data removed]",
      "text/plain": [
       "<Figure size 432x288 with 1 Axes>"
      ]
     },
     "metadata": {
      "needs_background": "light"
     },
     "output_type": "display_data"
    }
   ],
   "source": [
    "# Plot the data showing Products used by Education of Customers - Bivariate Analysis\n",
    "sns.countplot(x='Product', hue='Education', data=cgfObj)"
   ]
  },
  {
   "cell_type": "code",
   "execution_count": 13,
   "id": "76dcaa48",
   "metadata": {},
   "outputs": [
    {
     "data": {
      "image/png": "[encoded data removed]",
      "text/plain": [
       "<Figure size 451.85x360 with 1 Axes>"
      ]
     },
     "metadata": {},
     "output_type": "display_data"
    }
   ],
   "source": [
    "# Multivariate Analysis\n",
    "sns.set(style =\"ticks\")\n",
    "sns.relplot(x=\"Age\", y=\"Income\", hue=\"Product\", data=cgfObj).set(title='INCOME BY AGE ,PRODUCT AND USAGE');"
   ]
  },
  {
   "cell_type": "code",
   "execution_count": 14,
   "id": "7f48f557",
   "metadata": {},
   "outputs": [
    {
     "data": {
      "text/plain": [
       "<seaborn.axisgrid.FacetGrid at 0x7fcc9998d9a0>"
      ]
     },
     "execution_count": 14,
     "metadata": {},
     "output_type": "execute_result"
    },
    {
     "data": {
      "text/plain": [
       "<Figure size 864x504 with 0 Axes>"
      ]
     },
     "metadata": {},
     "output_type": "display_data"
    },
    {
     "data": {
      "image/png": "[encoded data removed]",
      "text/plain": [
       "<Figure size 811.85x360 with 2 Axes>"
      ]
     },
     "metadata": {},
     "output_type": "display_data"
    }
   ],
   "source": [
    "# Another multivariate analysis between Usage vs Income with Gender and Products as bar chart\n",
    "plt.figure(figsize=(12,7))\n",
    "sns.catplot(x='Usage', y='Income', col='Gender',hue='Product', kind=\"bar\", data=cgfObj) "
   ]
  },
  {
   "cell_type": "code",
   "execution_count": null,
   "id": "2716ca13",
   "metadata": {},
   "outputs": [],
   "source": []
  },
  {
   "cell_type": "code",
   "execution_count": null,
   "id": "1950d74f",
   "metadata": {},
   "outputs": [],
   "source": []
  }
 ],
 "metadata": {
  "kernelspec": {
   "display_name": "Python 3",
   "language": "python",
   "name": "python3"
  },
  "language_info": {
   "codemirror_mode": {
    "name": "ipython",
    "version": 3
   },
   "file_extension": ".py",
   "mimetype": "text/x-python",
   "name": "python",
   "nbconvert_exporter": "python",
   "pygments_lexer": "ipython3",
   "version": "3.8.8"
  }
 },
 "nbformat": 4,
 "nbformat_minor": 5
}
